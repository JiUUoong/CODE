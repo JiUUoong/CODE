{
  "nbformat": 4,
  "nbformat_minor": 0,
  "metadata": {
    "colab": {
      "provenance": [],
      "include_colab_link": true
    },
    "kernelspec": {
      "name": "python3",
      "display_name": "Python 3"
    },
    "language_info": {
      "name": "python"
    },
    "widgets": {
      "application/vnd.jupyter.widget-state+json": {
        "9378dc4eb2884dd98ccc54410ef3b6e8": {
          "model_module": "@jupyter-widgets/controls",
          "model_name": "HBoxModel",
          "model_module_version": "1.5.0",
          "state": {
            "_dom_classes": [],
            "_model_module": "@jupyter-widgets/controls",
            "_model_module_version": "1.5.0",
            "_model_name": "HBoxModel",
            "_view_count": null,
            "_view_module": "@jupyter-widgets/controls",
            "_view_module_version": "1.5.0",
            "_view_name": "HBoxView",
            "box_style": "",
            "children": [
              "IPY_MODEL_3dbc4c9b53d24bc4ab3fe31170aea4ad",
              "IPY_MODEL_c55da8bd8b154e499531a75db40c059a",
              "IPY_MODEL_6df626e3f9154c53901336413758733b"
            ],
            "layout": "IPY_MODEL_21de056c9e354921bcb41a49084663f2"
          }
        },
        "3dbc4c9b53d24bc4ab3fe31170aea4ad": {
          "model_module": "@jupyter-widgets/controls",
          "model_name": "HTMLModel",
          "model_module_version": "1.5.0",
          "state": {
            "_dom_classes": [],
            "_model_module": "@jupyter-widgets/controls",
            "_model_module_version": "1.5.0",
            "_model_name": "HTMLModel",
            "_view_count": null,
            "_view_module": "@jupyter-widgets/controls",
            "_view_module_version": "1.5.0",
            "_view_name": "HTMLView",
            "description": "",
            "description_tooltip": null,
            "layout": "IPY_MODEL_e643aa110708486e80c334d6f25c0ed4",
            "placeholder": "​",
            "style": "IPY_MODEL_4d5119e3706f412a9d2f177f7a33c332",
            "value": "  7%"
          }
        },
        "c55da8bd8b154e499531a75db40c059a": {
          "model_module": "@jupyter-widgets/controls",
          "model_name": "FloatProgressModel",
          "model_module_version": "1.5.0",
          "state": {
            "_dom_classes": [],
            "_model_module": "@jupyter-widgets/controls",
            "_model_module_version": "1.5.0",
            "_model_name": "FloatProgressModel",
            "_view_count": null,
            "_view_module": "@jupyter-widgets/controls",
            "_view_module_version": "1.5.0",
            "_view_name": "ProgressView",
            "bar_style": "danger",
            "description": "",
            "description_tooltip": null,
            "layout": "IPY_MODEL_e48fc6c235974863a923d5fb7a331ccb",
            "max": 500,
            "min": 0,
            "orientation": "horizontal",
            "style": "IPY_MODEL_e2be68c7c0ee47c4a7d6edeb70d5715e",
            "value": 36
          }
        },
        "6df626e3f9154c53901336413758733b": {
          "model_module": "@jupyter-widgets/controls",
          "model_name": "HTMLModel",
          "model_module_version": "1.5.0",
          "state": {
            "_dom_classes": [],
            "_model_module": "@jupyter-widgets/controls",
            "_model_module_version": "1.5.0",
            "_model_name": "HTMLModel",
            "_view_count": null,
            "_view_module": "@jupyter-widgets/controls",
            "_view_module_version": "1.5.0",
            "_view_name": "HTMLView",
            "description": "",
            "description_tooltip": null,
            "layout": "IPY_MODEL_9f6a364382794e39b41dae103af278a4",
            "placeholder": "​",
            "style": "IPY_MODEL_e215a4d36a7a49178f498e80be6ca376",
            "value": " 36/500 [12:01&lt;2:27:41, 19.10s/it]"
          }
        },
        "21de056c9e354921bcb41a49084663f2": {
          "model_module": "@jupyter-widgets/base",
          "model_name": "LayoutModel",
          "model_module_version": "1.2.0",
          "state": {
            "_model_module": "@jupyter-widgets/base",
            "_model_module_version": "1.2.0",
            "_model_name": "LayoutModel",
            "_view_count": null,
            "_view_module": "@jupyter-widgets/base",
            "_view_module_version": "1.2.0",
            "_view_name": "LayoutView",
            "align_content": null,
            "align_items": null,
            "align_self": null,
            "border": null,
            "bottom": null,
            "display": null,
            "flex": null,
            "flex_flow": null,
            "grid_area": null,
            "grid_auto_columns": null,
            "grid_auto_flow": null,
            "grid_auto_rows": null,
            "grid_column": null,
            "grid_gap": null,
            "grid_row": null,
            "grid_template_areas": null,
            "grid_template_columns": null,
            "grid_template_rows": null,
            "height": null,
            "justify_content": null,
            "justify_items": null,
            "left": null,
            "margin": null,
            "max_height": null,
            "max_width": null,
            "min_height": null,
            "min_width": null,
            "object_fit": null,
            "object_position": null,
            "order": null,
            "overflow": null,
            "overflow_x": null,
            "overflow_y": null,
            "padding": null,
            "right": null,
            "top": null,
            "visibility": null,
            "width": null
          }
        },
        "e643aa110708486e80c334d6f25c0ed4": {
          "model_module": "@jupyter-widgets/base",
          "model_name": "LayoutModel",
          "model_module_version": "1.2.0",
          "state": {
            "_model_module": "@jupyter-widgets/base",
            "_model_module_version": "1.2.0",
            "_model_name": "LayoutModel",
            "_view_count": null,
            "_view_module": "@jupyter-widgets/base",
            "_view_module_version": "1.2.0",
            "_view_name": "LayoutView",
            "align_content": null,
            "align_items": null,
            "align_self": null,
            "border": null,
            "bottom": null,
            "display": null,
            "flex": null,
            "flex_flow": null,
            "grid_area": null,
            "grid_auto_columns": null,
            "grid_auto_flow": null,
            "grid_auto_rows": null,
            "grid_column": null,
            "grid_gap": null,
            "grid_row": null,
            "grid_template_areas": null,
            "grid_template_columns": null,
            "grid_template_rows": null,
            "height": null,
            "justify_content": null,
            "justify_items": null,
            "left": null,
            "margin": null,
            "max_height": null,
            "max_width": null,
            "min_height": null,
            "min_width": null,
            "object_fit": null,
            "object_position": null,
            "order": null,
            "overflow": null,
            "overflow_x": null,
            "overflow_y": null,
            "padding": null,
            "right": null,
            "top": null,
            "visibility": null,
            "width": null
          }
        },
        "4d5119e3706f412a9d2f177f7a33c332": {
          "model_module": "@jupyter-widgets/controls",
          "model_name": "DescriptionStyleModel",
          "model_module_version": "1.5.0",
          "state": {
            "_model_module": "@jupyter-widgets/controls",
            "_model_module_version": "1.5.0",
            "_model_name": "DescriptionStyleModel",
            "_view_count": null,
            "_view_module": "@jupyter-widgets/base",
            "_view_module_version": "1.2.0",
            "_view_name": "StyleView",
            "description_width": ""
          }
        },
        "e48fc6c235974863a923d5fb7a331ccb": {
          "model_module": "@jupyter-widgets/base",
          "model_name": "LayoutModel",
          "model_module_version": "1.2.0",
          "state": {
            "_model_module": "@jupyter-widgets/base",
            "_model_module_version": "1.2.0",
            "_model_name": "LayoutModel",
            "_view_count": null,
            "_view_module": "@jupyter-widgets/base",
            "_view_module_version": "1.2.0",
            "_view_name": "LayoutView",
            "align_content": null,
            "align_items": null,
            "align_self": null,
            "border": null,
            "bottom": null,
            "display": null,
            "flex": null,
            "flex_flow": null,
            "grid_area": null,
            "grid_auto_columns": null,
            "grid_auto_flow": null,
            "grid_auto_rows": null,
            "grid_column": null,
            "grid_gap": null,
            "grid_row": null,
            "grid_template_areas": null,
            "grid_template_columns": null,
            "grid_template_rows": null,
            "height": null,
            "justify_content": null,
            "justify_items": null,
            "left": null,
            "margin": null,
            "max_height": null,
            "max_width": null,
            "min_height": null,
            "min_width": null,
            "object_fit": null,
            "object_position": null,
            "order": null,
            "overflow": null,
            "overflow_x": null,
            "overflow_y": null,
            "padding": null,
            "right": null,
            "top": null,
            "visibility": null,
            "width": null
          }
        },
        "e2be68c7c0ee47c4a7d6edeb70d5715e": {
          "model_module": "@jupyter-widgets/controls",
          "model_name": "ProgressStyleModel",
          "model_module_version": "1.5.0",
          "state": {
            "_model_module": "@jupyter-widgets/controls",
            "_model_module_version": "1.5.0",
            "_model_name": "ProgressStyleModel",
            "_view_count": null,
            "_view_module": "@jupyter-widgets/base",
            "_view_module_version": "1.2.0",
            "_view_name": "StyleView",
            "bar_color": null,
            "description_width": ""
          }
        },
        "9f6a364382794e39b41dae103af278a4": {
          "model_module": "@jupyter-widgets/base",
          "model_name": "LayoutModel",
          "model_module_version": "1.2.0",
          "state": {
            "_model_module": "@jupyter-widgets/base",
            "_model_module_version": "1.2.0",
            "_model_name": "LayoutModel",
            "_view_count": null,
            "_view_module": "@jupyter-widgets/base",
            "_view_module_version": "1.2.0",
            "_view_name": "LayoutView",
            "align_content": null,
            "align_items": null,
            "align_self": null,
            "border": null,
            "bottom": null,
            "display": null,
            "flex": null,
            "flex_flow": null,
            "grid_area": null,
            "grid_auto_columns": null,
            "grid_auto_flow": null,
            "grid_auto_rows": null,
            "grid_column": null,
            "grid_gap": null,
            "grid_row": null,
            "grid_template_areas": null,
            "grid_template_columns": null,
            "grid_template_rows": null,
            "height": null,
            "justify_content": null,
            "justify_items": null,
            "left": null,
            "margin": null,
            "max_height": null,
            "max_width": null,
            "min_height": null,
            "min_width": null,
            "object_fit": null,
            "object_position": null,
            "order": null,
            "overflow": null,
            "overflow_x": null,
            "overflow_y": null,
            "padding": null,
            "right": null,
            "top": null,
            "visibility": null,
            "width": null
          }
        },
        "e215a4d36a7a49178f498e80be6ca376": {
          "model_module": "@jupyter-widgets/controls",
          "model_name": "DescriptionStyleModel",
          "model_module_version": "1.5.0",
          "state": {
            "_model_module": "@jupyter-widgets/controls",
            "_model_module_version": "1.5.0",
            "_model_name": "DescriptionStyleModel",
            "_view_count": null,
            "_view_module": "@jupyter-widgets/base",
            "_view_module_version": "1.2.0",
            "_view_name": "StyleView",
            "description_width": ""
          }
        }
      }
    }
  },
  "cells": [
    {
      "cell_type": "markdown",
      "metadata": {
        "id": "view-in-github",
        "colab_type": "text"
      },
      "source": [
        "<a href=\"https://colab.research.google.com/github/JiUUoong/CODE/blob/main/crawler.ipynb\" target=\"_parent\"><img src=\"https://colab.research.google.com/assets/colab-badge.svg\" alt=\"Open In Colab\"/></a>"
      ]
    },
    {
      "cell_type": "code",
      "execution_count": null,
      "metadata": {
        "id": "vdhobHhfXjcL"
      },
      "outputs": [],
      "source": [
        "# 웹 크롤러; 크롤링; 스크래핑 web scraping\n",
        "# crawl -> 기어다님"
      ]
    },
    {
      "cell_type": "code",
      "source": [
        "# beautifulsoup -> 교육용으로 개발; 설명서가 비교적 친절\n",
        "# requests -> 웹 리퀘스트를 직접 전송하고 받을 수 있는 \"low-level\"\n",
        "# selenium -> 가장 범용성이 높음; 상대적으로 느림\n",
        "# scrapy -> 빠름(병렬화); 자바스크립트로 작성된 사이트 부분 크롤링을 못함"
      ],
      "metadata": {
        "id": "ExIRSn4fZE5n"
      },
      "execution_count": null,
      "outputs": []
    },
    {
      "cell_type": "code",
      "source": [
        "import requests\n",
        "response = requests.get(\"https://naver.com\")\n",
        "print(response) #http code 200: OK; 404: Not Found\n",
        "print(response.text)\n",
        "dir(response)\n",
        "\n",
        "\n",
        "# 만약 내가 데이터수집 하고자 하는 URL 리스트가 쭉 있으면\n",
        "# 반복문 돌면서 requests.get 호출하면 됨"
      ],
      "metadata": {
        "id": "pWPgAvn_an6X"
      },
      "execution_count": null,
      "outputs": []
    },
    {
      "cell_type": "code",
      "source": [
        "response.content"
      ],
      "metadata": {
        "id": "yA6U3GXrb61g"
      },
      "execution_count": null,
      "outputs": []
    },
    {
      "cell_type": "code",
      "source": [
        "# 수집하고자 하는 기사 링크가 있는 파일\n",
        "# 그 파일을 열어서\n",
        "# 링크 하나에 들어가서\n",
        "# 제목, 본문 수집"
      ],
      "metadata": {
        "id": "dk-lVT4Fc2u6"
      },
      "execution_count": null,
      "outputs": []
    },
    {
      "cell_type": "code",
      "source": [
        "root_dir = \"/content/drive/MyDrive/Teaching/IDEC/NLP2023/deploy/\"\n",
        "import pandas as pd\n",
        "#df = pd.read_excel(root_dir + \"all_articles1114.xlsx\")"
      ],
      "metadata": {
        "id": "gyJirIfzeRZQ"
      },
      "execution_count": null,
      "outputs": []
    },
    {
      "cell_type": "code",
      "source": [
        "#df.loc[0, \"provider_link_page\"]\n"
      ],
      "metadata": {
        "colab": {
          "base_uri": "https://localhost:8080/",
          "height": 71
        },
        "id": "0dwWJtm7eo40",
        "outputId": "bdaa4ef6-5fc8-4b42-ca2f-ce722f8000d5"
      },
      "execution_count": null,
      "outputs": [
        {
          "output_type": "execute_result",
          "data": {
            "text/plain": [
              "'이종섭 국방부 장관은 1일 그룹 방탄소년단(BTS)의 병역 문제 여론 조사와 관련해 “거기에 따라 결정한다는 의미는 아니었다”고 말했다.\\n\\n이 장관은 이날 국회 예산결산특별위원회 종합 정책질의에서 BTS 병역 특례 여론조사에 대한 이용호 국민의힘 의원 질의에 “기존에서 변한 것은 없고 국민의 뜻이 어떤지 보겠다는 취지였다”며 이같이 답했다.\\n\\n그동안 이 장'"
            ],
            "application/vnd.google.colaboratory.intrinsic+json": {
              "type": "string"
            }
          },
          "metadata": {},
          "execution_count": 15
        }
      ]
    },
    {
      "cell_type": "code",
      "source": [
        "#import numpy as np\n",
        "#seed = 42\n",
        "#np.random.seed(seed)\n",
        "#smaller_dataset = df.sample(500, ignore_index=True)"
      ],
      "metadata": {
        "id": "qHUNuOiWfpAD"
      },
      "execution_count": null,
      "outputs": []
    },
    {
      "cell_type": "code",
      "source": [
        "#smaller_dataset.loc[:, \"content\"]"
      ],
      "metadata": {
        "colab": {
          "base_uri": "https://localhost:8080/"
        },
        "id": "z4Ovcf93f3MC",
        "outputId": "c6ec2deb-bd8a-4f10-9f7a-40d6fae0f79c"
      },
      "execution_count": null,
      "outputs": [
        {
          "output_type": "execute_result",
          "data": {
            "text/plain": [
              "0      이창양 산업통상자원부 장관은 22일 미국 내에서 생산된 전기차에만 보조금을 지급하는...\n",
              "1      윤재옥 국민의힘 원내대표는 11일 김남국 더불어민주당 의원의 '가상자산 보유 의혹'...\n",
              "2      정의당이 더불어민주당 이재명 대표를 향해 ‘불체포특권을 포기하라’고 압박하고 나섰다...\n",
              "3      일본 방위성이 11일 해상자위대 잠수함에서 발사할 수 있는 장거리 미사일 개발 계획...\n",
              "4      미국 전직 대통령으로는 최장수 기록을 세운 지미 카터(98) 전 대통령이 생의 마지...\n",
              "                             ...                        \n",
              "495    4일 열린 교육부 국정감사에서는 윤석열 대통령의 부인 김건희 여사의 논문 표절 의혹...\n",
              "496    홍준표 대구시장은 자신이 윤석열 대통령 친구라고 강조한 권성동 국민의힘 원내대표 과...\n",
              "497    국민의힘 박대출 정책위의장이 13일 서울 여의도 국회에서 열린 난임 다둥이 맞춤형 ...\n",
              "498    주요 7개국(G7)을 비롯한 서방이 지난 23~24일 러시아 용병 기업 바그너그룹의...\n",
              "499    윤건영 더불어민주당 의원은 국무총리 직속 자문기구인 경찰제도발전위원회의 박인환 위원...\n",
              "Name: content, Length: 500, dtype: object"
            ]
          },
          "metadata": {},
          "execution_count": 30
        }
      ]
    },
    {
      "cell_type": "code",
      "source": [
        "#smaller_dataset.to_csv(root_dir + \"smaller_dataset1114.csv\", index=False)"
      ],
      "metadata": {
        "id": "mN6zmYHWguAe"
      },
      "execution_count": null,
      "outputs": []
    },
    {
      "cell_type": "code",
      "source": [
        "df = pd.read_csv(root_dir + \"smaller_dataset1114.csv\")\n",
        "df"
      ],
      "metadata": {
        "id": "wOjIzzCyhWIO"
      },
      "execution_count": null,
      "outputs": []
    },
    {
      "cell_type": "code",
      "source": [
        "df.loc[0, \"provider_link_page\"]\n",
        "df[\"provider\"].value_counts()"
      ],
      "metadata": {
        "colab": {
          "base_uri": "https://localhost:8080/"
        },
        "id": "EzYdjtsihfA5",
        "outputId": "6f3c4870-c885-48ce-b25a-8c69173724d3"
      },
      "execution_count": null,
      "outputs": [
        {
          "output_type": "execute_result",
          "data": {
            "text/plain": [
              "세계일보    96\n",
              "중앙일보    64\n",
              "서울신문    60\n",
              "조선일보    54\n",
              "국민일보    52\n",
              "경향신문    45\n",
              "문화일보    43\n",
              "동아일보    36\n",
              "한겨레     35\n",
              "내일신문    15\n",
              "Name: provider, dtype: int64"
            ]
          },
          "metadata": {},
          "execution_count": 35
        }
      ]
    },
    {
      "cell_type": "code",
      "source": [
        "!pip install selenium"
      ],
      "metadata": {
        "colab": {
          "base_uri": "https://localhost:8080/"
        },
        "id": "GOycFjF3is-V",
        "outputId": "5587dd48-cb04-49c5-8f74-525425f0e9ec"
      },
      "execution_count": null,
      "outputs": [
        {
          "output_type": "stream",
          "name": "stdout",
          "text": [
            "Collecting selenium\n",
            "  Downloading selenium-4.15.2-py3-none-any.whl (10.2 MB)\n",
            "\u001b[2K     \u001b[90m━━━━━━━━━━━━━━━━━━━━━━━━━━━━━━━━━━━━━━━━\u001b[0m \u001b[32m10.2/10.2 MB\u001b[0m \u001b[31m51.2 MB/s\u001b[0m eta \u001b[36m0:00:00\u001b[0m\n",
            "\u001b[?25hRequirement already satisfied: urllib3[socks]<3,>=1.26 in /usr/local/lib/python3.10/dist-packages (from selenium) (2.0.7)\n",
            "Collecting trio~=0.17 (from selenium)\n",
            "  Downloading trio-0.23.1-py3-none-any.whl (448 kB)\n",
            "\u001b[2K     \u001b[90m━━━━━━━━━━━━━━━━━━━━━━━━━━━━━━━━━━━━━━━━\u001b[0m \u001b[32m448.3/448.3 kB\u001b[0m \u001b[31m37.1 MB/s\u001b[0m eta \u001b[36m0:00:00\u001b[0m\n",
            "\u001b[?25hCollecting trio-websocket~=0.9 (from selenium)\n",
            "  Downloading trio_websocket-0.11.1-py3-none-any.whl (17 kB)\n",
            "Requirement already satisfied: certifi>=2021.10.8 in /usr/local/lib/python3.10/dist-packages (from selenium) (2023.7.22)\n",
            "Requirement already satisfied: attrs>=20.1.0 in /usr/local/lib/python3.10/dist-packages (from trio~=0.17->selenium) (23.1.0)\n",
            "Requirement already satisfied: sortedcontainers in /usr/local/lib/python3.10/dist-packages (from trio~=0.17->selenium) (2.4.0)\n",
            "Requirement already satisfied: idna in /usr/local/lib/python3.10/dist-packages (from trio~=0.17->selenium) (3.4)\n",
            "Collecting outcome (from trio~=0.17->selenium)\n",
            "  Downloading outcome-1.3.0.post0-py2.py3-none-any.whl (10 kB)\n",
            "Requirement already satisfied: sniffio>=1.3.0 in /usr/local/lib/python3.10/dist-packages (from trio~=0.17->selenium) (1.3.0)\n",
            "Requirement already satisfied: exceptiongroup>=1.0.0rc9 in /usr/local/lib/python3.10/dist-packages (from trio~=0.17->selenium) (1.1.3)\n",
            "Collecting wsproto>=0.14 (from trio-websocket~=0.9->selenium)\n",
            "  Downloading wsproto-1.2.0-py3-none-any.whl (24 kB)\n",
            "Requirement already satisfied: pysocks!=1.5.7,<2.0,>=1.5.6 in /usr/local/lib/python3.10/dist-packages (from urllib3[socks]<3,>=1.26->selenium) (1.7.1)\n",
            "Collecting h11<1,>=0.9.0 (from wsproto>=0.14->trio-websocket~=0.9->selenium)\n",
            "  Downloading h11-0.14.0-py3-none-any.whl (58 kB)\n",
            "\u001b[2K     \u001b[90m━━━━━━━━━━━━━━━━━━━━━━━━━━━━━━━━━━━━━━━━\u001b[0m \u001b[32m58.3/58.3 kB\u001b[0m \u001b[31m6.2 MB/s\u001b[0m eta \u001b[36m0:00:00\u001b[0m\n",
            "\u001b[?25hInstalling collected packages: outcome, h11, wsproto, trio, trio-websocket, selenium\n",
            "Successfully installed h11-0.14.0 outcome-1.3.0.post0 selenium-4.15.2 trio-0.23.1 trio-websocket-0.11.1 wsproto-1.2.0\n"
          ]
        }
      ]
    },
    {
      "cell_type": "code",
      "source": [
        "from selenium import webdriver\n",
        "from selenium.webdriver.chrome.options import Options\n",
        "from selenium.webdriver.common.by import By"
      ],
      "metadata": {
        "id": "EJTV1CCEim_R"
      },
      "execution_count": null,
      "outputs": []
    },
    {
      "cell_type": "code",
      "source": [
        "test_url = df.loc[0, \"provider_link_page\"]"
      ],
      "metadata": {
        "id": "F4E4kSGEjz6h"
      },
      "execution_count": null,
      "outputs": []
    },
    {
      "cell_type": "code",
      "source": [
        "test_url"
      ],
      "metadata": {
        "colab": {
          "base_uri": "https://localhost:8080/",
          "height": 35
        },
        "id": "ICEUB8_Rj6FL",
        "outputId": "d09e7a75-123b-44b1-a77f-dca244bead9d"
      },
      "execution_count": null,
      "outputs": [
        {
          "output_type": "execute_result",
          "data": {
            "text/plain": [
              "'http://www.segye.com/content/html/2022/08/22/20220822516795.html'"
            ],
            "application/vnd.google.colaboratory.intrinsic+json": {
              "type": "string"
            }
          },
          "metadata": {},
          "execution_count": 39
        }
      ]
    },
    {
      "cell_type": "code",
      "source": [
        "options = Options()\n",
        "options.add_argument(\"--headless\") # 모니터(디스플레이) 안 쓰겠다 (백그라운드)\n",
        "options.add_argument(\"--no-sandbox\") # 샌드박스 안 쓸래\n",
        "options.add_argument(\"--disable-dev-shm-usage\") # 개발 관련 옵션 다 떼겠다\n",
        "options.add_argument(\"--start-maximized\") # 화면에 맞춰서 최대화\n",
        "options.add_argument(\"--disable-extensions\") # 확장 끄기\n",
        "driver = webdriver.Chrome(options=options)\n",
        "driver.get(test_url)"
      ],
      "metadata": {
        "id": "6uTpRf-JjP7L"
      },
      "execution_count": null,
      "outputs": []
    },
    {
      "cell_type": "code",
      "source": [
        "elem = driver.find_element(By.ID, \"article_txt\")\n",
        "print(elem.text)\n",
        "# driver.find_elements()"
      ],
      "metadata": {
        "colab": {
          "base_uri": "https://localhost:8080/"
        },
        "id": "aiY8OX_Tlb45",
        "outputId": "a5e53b39-2f9a-466c-defd-e70f7663c1fd"
      },
      "execution_count": null,
      "outputs": [
        {
          "output_type": "stream",
          "name": "stdout",
          "text": [
            "국회 산자중기위 전체회의서 언급\n",
            "\"미국 무역대표부에 우려 전달해\"\n",
            "이창양 산업통상자원부 장관은 22일 미국 내에서 생산된 전기차에만 보조금을 지급하는 내용을 담은 '인플레이션 감축법(IRA·the Inflation Reduction Act)'과 관련, \"WTO(세계무역기구) 제소 여부도 적극적으로 검토해볼 생각\"이라고 밝혔다.\n",
            "이창양 산업통상자원부 장관이 22일 서울 여의도 국회에서 열린 산업통상자원중소벤처기업위원회 전체회의에서 2021 회계연도 결산 보고를 하고 있다. 공동취재사진\n",
            "이 장관은 이날 국회 산업통상자원중소벤처기업위원회 전체회의에 참석해 이인선 국민의힘 의원의 관련 질의에 \"이번 인플레이션 감축법이 우려를 낳고 있다\"면서 이같이 답했다.\n",
            "  이 장관은 \"이 법이 나오자마자 통상교섭본부장 명의로 USTR(미 무역대표부) 대표에게 WTO 규정 위반, 한미 FTA(자유무역협정) 규정 위반 가능성과 우려를 전달했다\"며 \"외교부 장관 등 여러 경로를 통해서 우려를 전달했다\"고 거듭 강조했다.\n",
            "  이 장관은 \"다음 주 초에 1급 통상 간부를 보내서 미국의 의사를 확인하고, 다음 주에 통상교섭본부장이 IPEF(인도태평양경제프레임워크)와 관련해 미국 출장에서 이 문제를 논의할 것\"이라고 덧붙였다.\n",
            "<뉴시스>\n",
            "\n",
            "[ⓒ 세계일보 & Segye.com, 무단전재 및 재배포 금지]\n"
          ]
        }
      ]
    },
    {
      "cell_type": "code",
      "source": [
        "def fetch_article_text(driver, u):\n",
        "    try:\n",
        "        # 경향신문\n",
        "        if \"khan.co.kr\" in u:\n",
        "            return driver.find_element(By.ID, \"articleBody\").text\n",
        "        # 국민일보\n",
        "        elif \"kmib.co.kr\" in u:\n",
        "            return driver.find_element(By.ID, \"articleBody\").text\n",
        "        # 내일신문\n",
        "        elif \"naeil.com\" in u:\n",
        "            return driver.find_element(By.ID, \"contents\").text\n",
        "        # 동아일보\n",
        "        elif \"donga.com\" in u:\n",
        "            return driver.find_element(By.ID, \"article_txt\").text\n",
        "        # 문화일보\n",
        "        elif \"munhwa.com\" in u:\n",
        "            return driver.find_element(By.ID, \"News_content\").text\n",
        "        # 서울신문\n",
        "        elif \"seoul.co.kr\" in u:\n",
        "            return driver.find_element(By.ID, \"atic_txt1\").text\n",
        "        # 세계일보\n",
        "        elif \"segye.com\" in u:\n",
        "            return driver.find_element(By.ID, \"article_txt\").text\n",
        "        # 조선일보\n",
        "        elif \"chosun.com\" in u:\n",
        "            return driver.find_element(By.CLASS_NAME, \"article-body\").text\n",
        "        # 중앙일보\n",
        "        elif \"joongang.co.kr\" in u:\n",
        "            return driver.find_element(By.ID, \"article_body\").text\n",
        "        # 한겨레\n",
        "        elif \"hani.co.kr\" in u:\n",
        "            return driver.find_element(By.CLASS_NAME, \"article-text\").text\n",
        "        else:\n",
        "            txt = None\n",
        "    except:\n",
        "        txt = None\n",
        "\n",
        "    return txt"
      ],
      "metadata": {
        "id": "crmnWy0i8ora"
      },
      "execution_count": null,
      "outputs": []
    },
    {
      "cell_type": "code",
      "source": [
        "# 사용자 정의 함수\n",
        "# 기사 한 건을 처리하는 함수 (process_article)은 fetch_article_text랑 spawn_driver를 호출함 (call graph)\n",
        "# 기사 본문 텍스트 가져오는 함수 (fetch_article_text)\n",
        "# 드라이버 인스턴스 만드는 함수 (spawn_driver)\n",
        "# 작업 병렬화 (tqdm으로부터 thread_map) -> 한 쓰레드가 하나의 드라이버로 크롤링하도록"
      ],
      "metadata": {
        "id": "7DusRcwM_9B7"
      },
      "execution_count": null,
      "outputs": []
    },
    {
      "cell_type": "code",
      "source": [
        "# 개발의 방향\n",
        "# top-down; bottom-up"
      ],
      "metadata": {
        "id": "OA25uAWRBPHx"
      },
      "execution_count": null,
      "outputs": []
    },
    {
      "cell_type": "code",
      "source": [
        "# 사전을 인자로 받아\n",
        "# 사전을 반환함\n",
        "def process_article(_dict):\n",
        "  _driver = spawn_driver()\n",
        "  # try-except-finally (try가 쓰였으면 except랑 finally 중 하나는 있어야 함)\n",
        "  # try=시도. 즉, 시도해보고, 에러가 나면 except문의 코드를 실행하라\n",
        "  # finally는, try은 성공 여부와 상관없이 무조건 실행\n",
        "  try:\n",
        "    url = _dict[\"provider_link_page\"].strip()\n",
        "    _driver.get(url)\n",
        "    _driver.implicitly_wait(5)\n",
        "    article_text = fetch_article_text(_driver, _driver.current_url)\n",
        "  except:\n",
        "    article_text = None\n",
        "    # 실패했을 때\n",
        "  _dict[\"content\"] = article_text\n",
        "  _driver.quit()\n",
        "\n",
        "  return _dict"
      ],
      "metadata": {
        "id": "w3zm9q5zCBR5"
      },
      "execution_count": null,
      "outputs": []
    },
    {
      "cell_type": "code",
      "source": [
        "def spawn_driver():\n",
        "  options = Options()\n",
        "  options.add_argument(\"--headless\") # 모니터(디스플레이) 안 쓰겠다 (백그라운드)\n",
        "  options.add_argument(\"--no-sandbox\") # 샌드박스 안 쓸래\n",
        "  options.add_argument(\"--disable-dev-shm-usage\") # 개발 관련 옵션 다 떼겠다\n",
        "  options.add_argument(\"--start-maximized\") # 화면에 맞춰서 최대화\n",
        "  options.add_argument(\"--disable-extensions\") # 확장 끄기\n",
        "  _driver = webdriver.Chrome(options=options)\n",
        "  return _driver"
      ],
      "metadata": {
        "id": "J-NbMJ1rEJJ-"
      },
      "execution_count": null,
      "outputs": []
    },
    {
      "cell_type": "code",
      "source": [
        "from tqdm.contrib.concurrent import thread_map\n",
        "# tqdm 진행 상황이 얼마나 되었는지 progress bar의 형태로 보여줌\n",
        "# thread_map에서 병렬화된 함수 각각이 반환하는 값을 리스트에 넣어서 전체 반환해줌\n",
        "\n",
        "# thread_map이 인자로 받는 3가지:\n",
        "# 각 쓰레드가 처리할 함수\n",
        "# 처리 대상 데이터\n",
        "# 활용 쓰레드 갯수\n",
        "# \"records\" 방법에 따라 판다스 데이터프레임을 파이썬 사전으로 바꾸면,\n",
        "# 사전들의 리스트가 반환됨; 각 원소는 사전; 사전의 key는 데이터프레임의 칼럼 이름\n",
        "dicts = thread_map(process_article, df.to_dict(\"records\"), max_workers=16)\n"
      ],
      "metadata": {
        "colab": {
          "base_uri": "https://localhost:8080/",
          "height": 1000,
          "referenced_widgets": [
            "9378dc4eb2884dd98ccc54410ef3b6e8",
            "3dbc4c9b53d24bc4ab3fe31170aea4ad",
            "c55da8bd8b154e499531a75db40c059a",
            "6df626e3f9154c53901336413758733b",
            "21de056c9e354921bcb41a49084663f2",
            "e643aa110708486e80c334d6f25c0ed4",
            "4d5119e3706f412a9d2f177f7a33c332",
            "e48fc6c235974863a923d5fb7a331ccb",
            "e2be68c7c0ee47c4a7d6edeb70d5715e",
            "9f6a364382794e39b41dae103af278a4",
            "e215a4d36a7a49178f498e80be6ca376"
          ]
        },
        "id": "Yv_91fQtEzcE",
        "outputId": "0f1031c5-fb28-486c-94e2-0683eafe27a0"
      },
      "execution_count": null,
      "outputs": [
        {
          "output_type": "display_data",
          "data": {
            "text/plain": [
              "  0%|          | 0/500 [00:00<?, ?it/s]"
            ],
            "application/vnd.jupyter.widget-view+json": {
              "version_major": 2,
              "version_minor": 0,
              "model_id": "9378dc4eb2884dd98ccc54410ef3b6e8"
            }
          },
          "metadata": {}
        },
        {
          "output_type": "stream",
          "name": "stderr",
          "text": [
            "WARNING:urllib3.connectionpool:Retrying (Retry(total=2, connect=None, read=None, redirect=None, status=None)) after connection broken by 'NewConnectionError('<urllib3.connection.HTTPConnection object at 0x7a75a04888e0>: Failed to establish a new connection: [Errno 111] Connection refused')': /session/1e06e97416022df70f4db18a4103e665\n",
            "WARNING:urllib3.connectionpool:Retrying (Retry(total=1, connect=None, read=None, redirect=None, status=None)) after connection broken by 'NewConnectionError('<urllib3.connection.HTTPConnection object at 0x7a75a0489120>: Failed to establish a new connection: [Errno 111] Connection refused')': /session/1e06e97416022df70f4db18a4103e665\n",
            "WARNING:urllib3.connectionpool:Retrying (Retry(total=2, connect=None, read=None, redirect=None, status=None)) after connection broken by 'NewConnectionError('<urllib3.connection.HTTPConnection object at 0x7a75a048b430>: Failed to establish a new connection: [Errno 111] Connection refused')': /session/1c923e80444d815eef74cdc37ae3af22\n",
            "WARNING:urllib3.connectionpool:Retrying (Retry(total=2, connect=None, read=None, redirect=None, status=None)) after connection broken by 'RemoteDisconnected('Remote end closed connection without response')': /session/30c3220f36d404c687baa6b482184c46/element/BC198C43D161BD9341B8FBBABEF8CBBB_element_21/text\n",
            "WARNING:urllib3.connectionpool:Retrying (Retry(total=2, connect=None, read=None, redirect=None, status=None)) after connection broken by 'NewConnectionError('<urllib3.connection.HTTPConnection object at 0x7a75a048b160>: Failed to establish a new connection: [Errno 111] Connection refused')': /session/be5b740db974ed3ca03254102086c7c1\n",
            "WARNING:urllib3.connectionpool:Retrying (Retry(total=1, connect=None, read=None, redirect=None, status=None)) after connection broken by 'NewConnectionError('<urllib3.connection.HTTPConnection object at 0x7a75a091c160>: Failed to establish a new connection: [Errno 111] Connection refused')': /session/be5b740db974ed3ca03254102086c7c1\n",
            "WARNING:urllib3.connectionpool:Retrying (Retry(total=0, connect=None, read=None, redirect=None, status=None)) after connection broken by 'NewConnectionError('<urllib3.connection.HTTPConnection object at 0x7a75a091fdf0>: Failed to establish a new connection: [Errno 111] Connection refused')': /session/be5b740db974ed3ca03254102086c7c1\n",
            "WARNING:urllib3.connectionpool:Retrying (Retry(total=2, connect=None, read=None, redirect=None, status=None)) after connection broken by 'NewConnectionError('<urllib3.connection.HTTPConnection object at 0x7a75a04882b0>: Failed to establish a new connection: [Errno 111] Connection refused')': /session/4e2b4728ced51413419270d838bb6157\n",
            "WARNING:urllib3.connectionpool:Retrying (Retry(total=1, connect=None, read=None, redirect=None, status=None)) after connection broken by 'NewConnectionError('<urllib3.connection.HTTPConnection object at 0x7a75a0152320>: Failed to establish a new connection: [Errno 111] Connection refused')': /session/4e2b4728ced51413419270d838bb6157\n",
            "WARNING:urllib3.connectionpool:Retrying (Retry(total=0, connect=None, read=None, redirect=None, status=None)) after connection broken by 'NewConnectionError('<urllib3.connection.HTTPConnection object at 0x7a75a0152020>: Failed to establish a new connection: [Errno 111] Connection refused')': /session/4e2b4728ced51413419270d838bb6157\n",
            "WARNING:urllib3.connectionpool:Retrying (Retry(total=2, connect=None, read=None, redirect=None, status=None)) after connection broken by 'NewConnectionError('<urllib3.connection.HTTPConnection object at 0x7a759d42b7c0>: Failed to establish a new connection: [Errno 111] Connection refused')': /session/31225d32c1bd2d0b1466c71d4b303364\n",
            "WARNING:urllib3.connectionpool:Retrying (Retry(total=1, connect=None, read=None, redirect=None, status=None)) after connection broken by 'NewConnectionError('<urllib3.connection.HTTPConnection object at 0x7a75a0151f30>: Failed to establish a new connection: [Errno 111] Connection refused')': /session/31225d32c1bd2d0b1466c71d4b303364\n",
            "WARNING:urllib3.connectionpool:Retrying (Retry(total=0, connect=None, read=None, redirect=None, status=None)) after connection broken by 'NewConnectionError('<urllib3.connection.HTTPConnection object at 0x7a75a0153610>: Failed to establish a new connection: [Errno 111] Connection refused')': /session/31225d32c1bd2d0b1466c71d4b303364\n",
            "WARNING:urllib3.connectionpool:Retrying (Retry(total=2, connect=None, read=None, redirect=None, status=None)) after connection broken by 'NewConnectionError('<urllib3.connection.HTTPConnection object at 0x7a75a2131150>: Failed to establish a new connection: [Errno 111] Connection refused')': /session/69a47ce492c84c52923d066a41858ff9\n",
            "WARNING:urllib3.connectionpool:Retrying (Retry(total=2, connect=None, read=None, redirect=None, status=None)) after connection broken by 'NewConnectionError('<urllib3.connection.HTTPConnection object at 0x7a75a048a140>: Failed to establish a new connection: [Errno 111] Connection refused')': /session/43822aa20e8fc5f59d2268270e5dc8ae\n",
            "WARNING:urllib3.connectionpool:Retrying (Retry(total=2, connect=None, read=None, redirect=None, status=None)) after connection broken by 'NewConnectionError('<urllib3.connection.HTTPConnection object at 0x7a75a0152ce0>: Failed to establish a new connection: [Errno 111] Connection refused')': /session/df470a887fa75847ccaf63d78b52faab\n",
            "WARNING:urllib3.connectionpool:Retrying (Retry(total=1, connect=None, read=None, redirect=None, status=None)) after connection broken by 'NewConnectionError('<urllib3.connection.HTTPConnection object at 0x7a75a0150340>: Failed to establish a new connection: [Errno 111] Connection refused')': /session/df470a887fa75847ccaf63d78b52faab\n",
            "WARNING:urllib3.connectionpool:Retrying (Retry(total=0, connect=None, read=None, redirect=None, status=None)) after connection broken by 'NewConnectionError('<urllib3.connection.HTTPConnection object at 0x7a75a0152500>: Failed to establish a new connection: [Errno 111] Connection refused')': /session/df470a887fa75847ccaf63d78b52faab\n",
            "WARNING:urllib3.connectionpool:Retrying (Retry(total=1, connect=None, read=None, redirect=None, status=None)) after connection broken by 'NewConnectionError('<urllib3.connection.HTTPConnection object at 0x7a75a0488670>: Failed to establish a new connection: [Errno 111] Connection refused')': /session/1c923e80444d815eef74cdc37ae3af22\n",
            "WARNING:urllib3.connectionpool:Retrying (Retry(total=0, connect=None, read=None, redirect=None, status=None)) after connection broken by 'NewConnectionError('<urllib3.connection.HTTPConnection object at 0x7a75a0151c60>: Failed to establish a new connection: [Errno 111] Connection refused')': /session/1c923e80444d815eef74cdc37ae3af22\n",
            "WARNING:urllib3.connectionpool:Retrying (Retry(total=2, connect=None, read=None, redirect=None, status=None)) after connection broken by 'NewConnectionError('<urllib3.connection.HTTPConnection object at 0x7a75a0488dc0>: Failed to establish a new connection: [Errno 111] Connection refused')': /session/1481035d91ffa99d005872a1e1c28c66\n",
            "WARNING:urllib3.connectionpool:Retrying (Retry(total=1, connect=None, read=None, redirect=None, status=None)) after connection broken by 'NewConnectionError('<urllib3.connection.HTTPConnection object at 0x7a75a01f09d0>: Failed to establish a new connection: [Errno 111] Connection refused')': /session/1481035d91ffa99d005872a1e1c28c66\n",
            "WARNING:urllib3.connectionpool:Retrying (Retry(total=2, connect=None, read=None, redirect=None, status=None)) after connection broken by 'NewConnectionError('<urllib3.connection.HTTPConnection object at 0x7a75a21323e0>: Failed to establish a new connection: [Errno 111] Connection refused')': /session/8bf022d2a7111cfce25bd92e39e3f054\n",
            "WARNING:urllib3.connectionpool:Retrying (Retry(total=2, connect=None, read=None, redirect=None, status=None)) after connection broken by 'NewConnectionError('<urllib3.connection.HTTPConnection object at 0x7a759d4282e0>: Failed to establish a new connection: [Errno 111] Connection refused')': /session/3362361d6e3219064058d7420fac2be6\n",
            "WARNING:urllib3.connectionpool:Retrying (Retry(total=1, connect=None, read=None, redirect=None, status=None)) after connection broken by 'NewConnectionError('<urllib3.connection.HTTPConnection object at 0x7a75a01f1c60>: Failed to establish a new connection: [Errno 111] Connection refused')': /session/3362361d6e3219064058d7420fac2be6\n",
            "WARNING:urllib3.connectionpool:Retrying (Retry(total=2, connect=None, read=None, redirect=None, status=None)) after connection broken by 'NewConnectionError('<urllib3.connection.HTTPConnection object at 0x7a75a048b940>: Failed to establish a new connection: [Errno 111] Connection refused')': /session/7311425109aa13bcfedbc6b2c0581341\n",
            "WARNING:urllib3.connectionpool:Retrying (Retry(total=1, connect=None, read=None, redirect=None, status=None)) after connection broken by 'NewConnectionError('<urllib3.connection.HTTPConnection object at 0x7a75a0150e80>: Failed to establish a new connection: [Errno 111] Connection refused')': /session/69a47ce492c84c52923d066a41858ff9\n",
            "WARNING:urllib3.connectionpool:Retrying (Retry(total=0, connect=None, read=None, redirect=None, status=None)) after connection broken by 'NewConnectionError('<urllib3.connection.HTTPConnection object at 0x7a75a01509a0>: Failed to establish a new connection: [Errno 111] Connection refused')': /session/69a47ce492c84c52923d066a41858ff9\n",
            "WARNING:urllib3.connectionpool:Retrying (Retry(total=2, connect=None, read=None, redirect=None, status=None)) after connection broken by 'NewConnectionError('<urllib3.connection.HTTPConnection object at 0x7a75a048ba00>: Failed to establish a new connection: [Errno 111] Connection refused')': /session/f2ac3a8e170dcb7c4e2f431be7f86b17\n",
            "WARNING:urllib3.connectionpool:Retrying (Retry(total=0, connect=None, read=None, redirect=None, status=None)) after connection broken by 'NewConnectionError('<urllib3.connection.HTTPConnection object at 0x7a75a0489bd0>: Failed to establish a new connection: [Errno 111] Connection refused')': /session/1e06e97416022df70f4db18a4103e665\n",
            "WARNING:urllib3.connectionpool:Retrying (Retry(total=1, connect=None, read=None, redirect=None, status=None)) after connection broken by 'NewConnectionError('<urllib3.connection.HTTPConnection object at 0x7a75a0488070>: Failed to establish a new connection: [Errno 111] Connection refused')': /session/30c3220f36d404c687baa6b482184c46/element/BC198C43D161BD9341B8FBBABEF8CBBB_element_21/text\n",
            "WARNING:urllib3.connectionpool:Retrying (Retry(total=2, connect=None, read=None, redirect=None, status=None)) after connection broken by 'NewConnectionError('<urllib3.connection.HTTPConnection object at 0x7a75a048a1a0>: Failed to establish a new connection: [Errno 111] Connection refused')': /session/53db75c6f2e96bf9fc1456ff87d56287\n",
            "WARNING:urllib3.connectionpool:Retrying (Retry(total=0, connect=None, read=None, redirect=None, status=None)) after connection broken by 'NewConnectionError('<urllib3.connection.HTTPConnection object at 0x7a75a0150f40>: Failed to establish a new connection: [Errno 111] Connection refused')': /session/1481035d91ffa99d005872a1e1c28c66\n",
            "WARNING:urllib3.connectionpool:Retrying (Retry(total=1, connect=None, read=None, redirect=None, status=None)) after connection broken by 'NewConnectionError('<urllib3.connection.HTTPConnection object at 0x7a75a01f0760>: Failed to establish a new connection: [Errno 111] Connection refused')': /session/8bf022d2a7111cfce25bd92e39e3f054\n",
            "WARNING:urllib3.connectionpool:Retrying (Retry(total=2, connect=None, read=None, redirect=None, status=None)) after connection broken by 'NewConnectionError('<urllib3.connection.HTTPConnection object at 0x7a759d429240>: Failed to establish a new connection: [Errno 111] Connection refused')': /session/534c0ea39dfceff58cac4b0aa2189d14\n",
            "WARNING:urllib3.connectionpool:Retrying (Retry(total=1, connect=None, read=None, redirect=None, status=None)) after connection broken by 'NewConnectionError('<urllib3.connection.HTTPConnection object at 0x7a75a091e1a0>: Failed to establish a new connection: [Errno 111] Connection refused')': /session/534c0ea39dfceff58cac4b0aa2189d14\n",
            "WARNING:urllib3.connectionpool:Retrying (Retry(total=0, connect=None, read=None, redirect=None, status=None)) after connection broken by 'NewConnectionError('<urllib3.connection.HTTPConnection object at 0x7a75a0150f70>: Failed to establish a new connection: [Errno 111] Connection refused')': /session/534c0ea39dfceff58cac4b0aa2189d14\n",
            "WARNING:urllib3.connectionpool:Retrying (Retry(total=1, connect=None, read=None, redirect=None, status=None)) after connection broken by 'NewConnectionError('<urllib3.connection.HTTPConnection object at 0x7a75a0150ac0>: Failed to establish a new connection: [Errno 111] Connection refused')': /session/43822aa20e8fc5f59d2268270e5dc8ae\n",
            "WARNING:urllib3.connectionpool:Retrying (Retry(total=1, connect=None, read=None, redirect=None, status=None)) after connection broken by 'NewConnectionError('<urllib3.connection.HTTPConnection object at 0x7a75a01513f0>: Failed to establish a new connection: [Errno 111] Connection refused')': /session/f2ac3a8e170dcb7c4e2f431be7f86b17\n",
            "WARNING:urllib3.connectionpool:Retrying (Retry(total=0, connect=None, read=None, redirect=None, status=None)) after connection broken by 'NewConnectionError('<urllib3.connection.HTTPConnection object at 0x7a75a01517b0>: Failed to establish a new connection: [Errno 111] Connection refused')': /session/30c3220f36d404c687baa6b482184c46/element/BC198C43D161BD9341B8FBBABEF8CBBB_element_21/text\n",
            "WARNING:urllib3.connectionpool:Retrying (Retry(total=1, connect=None, read=None, redirect=None, status=None)) after connection broken by 'NewConnectionError('<urllib3.connection.HTTPConnection object at 0x7a75a0151c90>: Failed to establish a new connection: [Errno 111] Connection refused')': /session/53db75c6f2e96bf9fc1456ff87d56287\n",
            "WARNING:urllib3.connectionpool:Retrying (Retry(total=0, connect=None, read=None, redirect=None, status=None)) after connection broken by 'NewConnectionError('<urllib3.connection.HTTPConnection object at 0x7a75a0153730>: Failed to establish a new connection: [Errno 111] Connection refused')': /session/8bf022d2a7111cfce25bd92e39e3f054\n",
            "WARNING:urllib3.connectionpool:Retrying (Retry(total=0, connect=None, read=None, redirect=None, status=None)) after connection broken by 'NewConnectionError('<urllib3.connection.HTTPConnection object at 0x7a75a01f0160>: Failed to establish a new connection: [Errno 111] Connection refused')': /session/3362361d6e3219064058d7420fac2be6\n",
            "WARNING:urllib3.connectionpool:Retrying (Retry(total=1, connect=None, read=None, redirect=None, status=None)) after connection broken by 'NewConnectionError('<urllib3.connection.HTTPConnection object at 0x7a75a0150310>: Failed to establish a new connection: [Errno 111] Connection refused')': /session/7311425109aa13bcfedbc6b2c0581341\n",
            "WARNING:urllib3.connectionpool:Retrying (Retry(total=0, connect=None, read=None, redirect=None, status=None)) after connection broken by 'NewConnectionError('<urllib3.connection.HTTPConnection object at 0x7a75a01506d0>: Failed to establish a new connection: [Errno 111] Connection refused')': /session/43822aa20e8fc5f59d2268270e5dc8ae\n",
            "WARNING:urllib3.connectionpool:Retrying (Retry(total=0, connect=None, read=None, redirect=None, status=None)) after connection broken by 'NewConnectionError('<urllib3.connection.HTTPConnection object at 0x7a75a01514e0>: Failed to establish a new connection: [Errno 111] Connection refused')': /session/f2ac3a8e170dcb7c4e2f431be7f86b17\n",
            "WARNING:urllib3.connectionpool:Retrying (Retry(total=2, connect=None, read=None, redirect=None, status=None)) after connection broken by 'NewConnectionError('<urllib3.connection.HTTPConnection object at 0x7a75a01f29b0>: Failed to establish a new connection: [Errno 111] Connection refused')': /session/30c3220f36d404c687baa6b482184c46\n",
            "WARNING:urllib3.connectionpool:Retrying (Retry(total=1, connect=None, read=None, redirect=None, status=None)) after connection broken by 'NewConnectionError('<urllib3.connection.HTTPConnection object at 0x7a75a01f3010>: Failed to establish a new connection: [Errno 111] Connection refused')': /session/30c3220f36d404c687baa6b482184c46\n",
            "WARNING:urllib3.connectionpool:Retrying (Retry(total=0, connect=None, read=None, redirect=None, status=None)) after connection broken by 'NewConnectionError('<urllib3.connection.HTTPConnection object at 0x7a75a0150400>: Failed to establish a new connection: [Errno 111] Connection refused')': /session/7311425109aa13bcfedbc6b2c0581341\n",
            "WARNING:urllib3.connectionpool:Retrying (Retry(total=0, connect=None, read=None, redirect=None, status=None)) after connection broken by 'NewConnectionError('<urllib3.connection.HTTPConnection object at 0x7a75a0152140>: Failed to establish a new connection: [Errno 111] Connection refused')': /session/53db75c6f2e96bf9fc1456ff87d56287\n",
            "WARNING:urllib3.connectionpool:Retrying (Retry(total=0, connect=None, read=None, redirect=None, status=None)) after connection broken by 'NewConnectionError('<urllib3.connection.HTTPConnection object at 0x7a75a01f3670>: Failed to establish a new connection: [Errno 111] Connection refused')': /session/30c3220f36d404c687baa6b482184c46\n"
          ]
        },
        {
          "output_type": "error",
          "ename": "KeyboardInterrupt",
          "evalue": "ignored",
          "traceback": [
            "\u001b[0;31m---------------------------------------------------------------------------\u001b[0m",
            "\u001b[0;31mKeyboardInterrupt\u001b[0m                         Traceback (most recent call last)",
            "\u001b[0;32m<ipython-input-50-89b5be6677c5>\u001b[0m in \u001b[0;36m<cell line: 11>\u001b[0;34m()\u001b[0m\n\u001b[1;32m      9\u001b[0m \u001b[0;31m# \"records\" 방법에 따라 판다스 데이터프레임을 파이썬 사전으로 바꾸면,\u001b[0m\u001b[0;34m\u001b[0m\u001b[0;34m\u001b[0m\u001b[0m\n\u001b[1;32m     10\u001b[0m \u001b[0;31m# 사전들의 리스트가 반환됨; 각 원소는 사전; 사전의 key는 데이터프레임의 칼럼 이름\u001b[0m\u001b[0;34m\u001b[0m\u001b[0;34m\u001b[0m\u001b[0m\n\u001b[0;32m---> 11\u001b[0;31m \u001b[0mdicts\u001b[0m \u001b[0;34m=\u001b[0m \u001b[0mthread_map\u001b[0m\u001b[0;34m(\u001b[0m\u001b[0mprocess_article\u001b[0m\u001b[0;34m,\u001b[0m \u001b[0mdf\u001b[0m\u001b[0;34m.\u001b[0m\u001b[0mto_dict\u001b[0m\u001b[0;34m(\u001b[0m\u001b[0;34m\"records\"\u001b[0m\u001b[0;34m)\u001b[0m\u001b[0;34m,\u001b[0m \u001b[0mmax_workers\u001b[0m\u001b[0;34m=\u001b[0m\u001b[0;36m16\u001b[0m\u001b[0;34m)\u001b[0m\u001b[0;34m\u001b[0m\u001b[0;34m\u001b[0m\u001b[0m\n\u001b[0m",
            "\u001b[0;32m/usr/local/lib/python3.10/dist-packages/tqdm/contrib/concurrent.py\u001b[0m in \u001b[0;36mthread_map\u001b[0;34m(fn, *iterables, **tqdm_kwargs)\u001b[0m\n\u001b[1;32m     67\u001b[0m     \"\"\"\n\u001b[1;32m     68\u001b[0m     \u001b[0;32mfrom\u001b[0m \u001b[0mconcurrent\u001b[0m\u001b[0;34m.\u001b[0m\u001b[0mfutures\u001b[0m \u001b[0;32mimport\u001b[0m \u001b[0mThreadPoolExecutor\u001b[0m\u001b[0;34m\u001b[0m\u001b[0;34m\u001b[0m\u001b[0m\n\u001b[0;32m---> 69\u001b[0;31m     \u001b[0;32mreturn\u001b[0m \u001b[0m_executor_map\u001b[0m\u001b[0;34m(\u001b[0m\u001b[0mThreadPoolExecutor\u001b[0m\u001b[0;34m,\u001b[0m \u001b[0mfn\u001b[0m\u001b[0;34m,\u001b[0m \u001b[0;34m*\u001b[0m\u001b[0miterables\u001b[0m\u001b[0;34m,\u001b[0m \u001b[0;34m**\u001b[0m\u001b[0mtqdm_kwargs\u001b[0m\u001b[0;34m)\u001b[0m\u001b[0;34m\u001b[0m\u001b[0;34m\u001b[0m\u001b[0m\n\u001b[0m\u001b[1;32m     70\u001b[0m \u001b[0;34m\u001b[0m\u001b[0m\n\u001b[1;32m     71\u001b[0m \u001b[0;34m\u001b[0m\u001b[0m\n",
            "\u001b[0;32m/usr/local/lib/python3.10/dist-packages/tqdm/contrib/concurrent.py\u001b[0m in \u001b[0;36m_executor_map\u001b[0;34m(PoolExecutor, fn, *iterables, **tqdm_kwargs)\u001b[0m\n\u001b[1;32m     49\u001b[0m         with PoolExecutor(max_workers=max_workers, initializer=tqdm_class.set_lock,\n\u001b[1;32m     50\u001b[0m                           initargs=(lk,)) as ex:\n\u001b[0;32m---> 51\u001b[0;31m             \u001b[0;32mreturn\u001b[0m \u001b[0mlist\u001b[0m\u001b[0;34m(\u001b[0m\u001b[0mtqdm_class\u001b[0m\u001b[0;34m(\u001b[0m\u001b[0mex\u001b[0m\u001b[0;34m.\u001b[0m\u001b[0mmap\u001b[0m\u001b[0;34m(\u001b[0m\u001b[0mfn\u001b[0m\u001b[0;34m,\u001b[0m \u001b[0;34m*\u001b[0m\u001b[0miterables\u001b[0m\u001b[0;34m,\u001b[0m \u001b[0mchunksize\u001b[0m\u001b[0;34m=\u001b[0m\u001b[0mchunksize\u001b[0m\u001b[0;34m)\u001b[0m\u001b[0;34m,\u001b[0m \u001b[0;34m**\u001b[0m\u001b[0mkwargs\u001b[0m\u001b[0;34m)\u001b[0m\u001b[0;34m)\u001b[0m\u001b[0;34m\u001b[0m\u001b[0;34m\u001b[0m\u001b[0m\n\u001b[0m\u001b[1;32m     52\u001b[0m \u001b[0;34m\u001b[0m\u001b[0m\n\u001b[1;32m     53\u001b[0m \u001b[0;34m\u001b[0m\u001b[0m\n",
            "\u001b[0;32m/usr/local/lib/python3.10/dist-packages/tqdm/notebook.py\u001b[0m in \u001b[0;36m__iter__\u001b[0;34m(self)\u001b[0m\n\u001b[1;32m    247\u001b[0m         \u001b[0;32mtry\u001b[0m\u001b[0;34m:\u001b[0m\u001b[0;34m\u001b[0m\u001b[0;34m\u001b[0m\u001b[0m\n\u001b[1;32m    248\u001b[0m             \u001b[0mit\u001b[0m \u001b[0;34m=\u001b[0m \u001b[0msuper\u001b[0m\u001b[0;34m(\u001b[0m\u001b[0mtqdm_notebook\u001b[0m\u001b[0;34m,\u001b[0m \u001b[0mself\u001b[0m\u001b[0;34m)\u001b[0m\u001b[0;34m.\u001b[0m\u001b[0m__iter__\u001b[0m\u001b[0;34m(\u001b[0m\u001b[0;34m)\u001b[0m\u001b[0;34m\u001b[0m\u001b[0;34m\u001b[0m\u001b[0m\n\u001b[0;32m--> 249\u001b[0;31m             \u001b[0;32mfor\u001b[0m \u001b[0mobj\u001b[0m \u001b[0;32min\u001b[0m \u001b[0mit\u001b[0m\u001b[0;34m:\u001b[0m\u001b[0;34m\u001b[0m\u001b[0;34m\u001b[0m\u001b[0m\n\u001b[0m\u001b[1;32m    250\u001b[0m                 \u001b[0;31m# return super(tqdm...) will not catch exception\u001b[0m\u001b[0;34m\u001b[0m\u001b[0;34m\u001b[0m\u001b[0m\n\u001b[1;32m    251\u001b[0m                 \u001b[0;32myield\u001b[0m \u001b[0mobj\u001b[0m\u001b[0;34m\u001b[0m\u001b[0;34m\u001b[0m\u001b[0m\n",
            "\u001b[0;32m/usr/local/lib/python3.10/dist-packages/tqdm/std.py\u001b[0m in \u001b[0;36m__iter__\u001b[0;34m(self)\u001b[0m\n\u001b[1;32m   1180\u001b[0m \u001b[0;34m\u001b[0m\u001b[0m\n\u001b[1;32m   1181\u001b[0m         \u001b[0;32mtry\u001b[0m\u001b[0;34m:\u001b[0m\u001b[0;34m\u001b[0m\u001b[0;34m\u001b[0m\u001b[0m\n\u001b[0;32m-> 1182\u001b[0;31m             \u001b[0;32mfor\u001b[0m \u001b[0mobj\u001b[0m \u001b[0;32min\u001b[0m \u001b[0miterable\u001b[0m\u001b[0;34m:\u001b[0m\u001b[0;34m\u001b[0m\u001b[0;34m\u001b[0m\u001b[0m\n\u001b[0m\u001b[1;32m   1183\u001b[0m                 \u001b[0;32myield\u001b[0m \u001b[0mobj\u001b[0m\u001b[0;34m\u001b[0m\u001b[0;34m\u001b[0m\u001b[0m\n\u001b[1;32m   1184\u001b[0m                 \u001b[0;31m# Update and possibly print the progressbar.\u001b[0m\u001b[0;34m\u001b[0m\u001b[0;34m\u001b[0m\u001b[0m\n",
            "\u001b[0;32m/usr/lib/python3.10/concurrent/futures/_base.py\u001b[0m in \u001b[0;36mresult_iterator\u001b[0;34m()\u001b[0m\n\u001b[1;32m    619\u001b[0m                     \u001b[0;31m# Careful not to keep a reference to the popped future\u001b[0m\u001b[0;34m\u001b[0m\u001b[0;34m\u001b[0m\u001b[0m\n\u001b[1;32m    620\u001b[0m                     \u001b[0;32mif\u001b[0m \u001b[0mtimeout\u001b[0m \u001b[0;32mis\u001b[0m \u001b[0;32mNone\u001b[0m\u001b[0;34m:\u001b[0m\u001b[0;34m\u001b[0m\u001b[0;34m\u001b[0m\u001b[0m\n\u001b[0;32m--> 621\u001b[0;31m                         \u001b[0;32myield\u001b[0m \u001b[0m_result_or_cancel\u001b[0m\u001b[0;34m(\u001b[0m\u001b[0mfs\u001b[0m\u001b[0;34m.\u001b[0m\u001b[0mpop\u001b[0m\u001b[0;34m(\u001b[0m\u001b[0;34m)\u001b[0m\u001b[0;34m)\u001b[0m\u001b[0;34m\u001b[0m\u001b[0;34m\u001b[0m\u001b[0m\n\u001b[0m\u001b[1;32m    622\u001b[0m                     \u001b[0;32melse\u001b[0m\u001b[0;34m:\u001b[0m\u001b[0;34m\u001b[0m\u001b[0;34m\u001b[0m\u001b[0m\n\u001b[1;32m    623\u001b[0m                         \u001b[0;32myield\u001b[0m \u001b[0m_result_or_cancel\u001b[0m\u001b[0;34m(\u001b[0m\u001b[0mfs\u001b[0m\u001b[0;34m.\u001b[0m\u001b[0mpop\u001b[0m\u001b[0;34m(\u001b[0m\u001b[0;34m)\u001b[0m\u001b[0;34m,\u001b[0m \u001b[0mend_time\u001b[0m \u001b[0;34m-\u001b[0m \u001b[0mtime\u001b[0m\u001b[0;34m.\u001b[0m\u001b[0mmonotonic\u001b[0m\u001b[0;34m(\u001b[0m\u001b[0;34m)\u001b[0m\u001b[0;34m)\u001b[0m\u001b[0;34m\u001b[0m\u001b[0;34m\u001b[0m\u001b[0m\n",
            "\u001b[0;32m/usr/lib/python3.10/concurrent/futures/_base.py\u001b[0m in \u001b[0;36m_result_or_cancel\u001b[0;34m(***failed resolving arguments***)\u001b[0m\n\u001b[1;32m    317\u001b[0m     \u001b[0;32mtry\u001b[0m\u001b[0;34m:\u001b[0m\u001b[0;34m\u001b[0m\u001b[0;34m\u001b[0m\u001b[0m\n\u001b[1;32m    318\u001b[0m         \u001b[0;32mtry\u001b[0m\u001b[0;34m:\u001b[0m\u001b[0;34m\u001b[0m\u001b[0;34m\u001b[0m\u001b[0m\n\u001b[0;32m--> 319\u001b[0;31m             \u001b[0;32mreturn\u001b[0m \u001b[0mfut\u001b[0m\u001b[0;34m.\u001b[0m\u001b[0mresult\u001b[0m\u001b[0;34m(\u001b[0m\u001b[0mtimeout\u001b[0m\u001b[0;34m)\u001b[0m\u001b[0;34m\u001b[0m\u001b[0;34m\u001b[0m\u001b[0m\n\u001b[0m\u001b[1;32m    320\u001b[0m         \u001b[0;32mfinally\u001b[0m\u001b[0;34m:\u001b[0m\u001b[0;34m\u001b[0m\u001b[0;34m\u001b[0m\u001b[0m\n\u001b[1;32m    321\u001b[0m             \u001b[0mfut\u001b[0m\u001b[0;34m.\u001b[0m\u001b[0mcancel\u001b[0m\u001b[0;34m(\u001b[0m\u001b[0;34m)\u001b[0m\u001b[0;34m\u001b[0m\u001b[0;34m\u001b[0m\u001b[0m\n",
            "\u001b[0;32m/usr/lib/python3.10/concurrent/futures/_base.py\u001b[0m in \u001b[0;36mresult\u001b[0;34m(self, timeout)\u001b[0m\n\u001b[1;32m    451\u001b[0m                     \u001b[0;32mreturn\u001b[0m \u001b[0mself\u001b[0m\u001b[0;34m.\u001b[0m\u001b[0m__get_result\u001b[0m\u001b[0;34m(\u001b[0m\u001b[0;34m)\u001b[0m\u001b[0;34m\u001b[0m\u001b[0;34m\u001b[0m\u001b[0m\n\u001b[1;32m    452\u001b[0m \u001b[0;34m\u001b[0m\u001b[0m\n\u001b[0;32m--> 453\u001b[0;31m                 \u001b[0mself\u001b[0m\u001b[0;34m.\u001b[0m\u001b[0m_condition\u001b[0m\u001b[0;34m.\u001b[0m\u001b[0mwait\u001b[0m\u001b[0;34m(\u001b[0m\u001b[0mtimeout\u001b[0m\u001b[0;34m)\u001b[0m\u001b[0;34m\u001b[0m\u001b[0;34m\u001b[0m\u001b[0m\n\u001b[0m\u001b[1;32m    454\u001b[0m \u001b[0;34m\u001b[0m\u001b[0m\n\u001b[1;32m    455\u001b[0m                 \u001b[0;32mif\u001b[0m \u001b[0mself\u001b[0m\u001b[0;34m.\u001b[0m\u001b[0m_state\u001b[0m \u001b[0;32min\u001b[0m \u001b[0;34m[\u001b[0m\u001b[0mCANCELLED\u001b[0m\u001b[0;34m,\u001b[0m \u001b[0mCANCELLED_AND_NOTIFIED\u001b[0m\u001b[0;34m]\u001b[0m\u001b[0;34m:\u001b[0m\u001b[0;34m\u001b[0m\u001b[0;34m\u001b[0m\u001b[0m\n",
            "\u001b[0;32m/usr/lib/python3.10/threading.py\u001b[0m in \u001b[0;36mwait\u001b[0;34m(self, timeout)\u001b[0m\n\u001b[1;32m    318\u001b[0m         \u001b[0;32mtry\u001b[0m\u001b[0;34m:\u001b[0m    \u001b[0;31m# restore state no matter what (e.g., KeyboardInterrupt)\u001b[0m\u001b[0;34m\u001b[0m\u001b[0;34m\u001b[0m\u001b[0m\n\u001b[1;32m    319\u001b[0m             \u001b[0;32mif\u001b[0m \u001b[0mtimeout\u001b[0m \u001b[0;32mis\u001b[0m \u001b[0;32mNone\u001b[0m\u001b[0;34m:\u001b[0m\u001b[0;34m\u001b[0m\u001b[0;34m\u001b[0m\u001b[0m\n\u001b[0;32m--> 320\u001b[0;31m                 \u001b[0mwaiter\u001b[0m\u001b[0;34m.\u001b[0m\u001b[0macquire\u001b[0m\u001b[0;34m(\u001b[0m\u001b[0;34m)\u001b[0m\u001b[0;34m\u001b[0m\u001b[0;34m\u001b[0m\u001b[0m\n\u001b[0m\u001b[1;32m    321\u001b[0m                 \u001b[0mgotit\u001b[0m \u001b[0;34m=\u001b[0m \u001b[0;32mTrue\u001b[0m\u001b[0;34m\u001b[0m\u001b[0;34m\u001b[0m\u001b[0m\n\u001b[1;32m    322\u001b[0m             \u001b[0;32melse\u001b[0m\u001b[0;34m:\u001b[0m\u001b[0;34m\u001b[0m\u001b[0;34m\u001b[0m\u001b[0m\n",
            "\u001b[0;31mKeyboardInterrupt\u001b[0m: "
          ]
        }
      ]
    },
    {
      "cell_type": "code",
      "source": [
        "outdf = pd.DataFrame(dicts)\n",
        "outdf.to_csv(root_dir + \"whole_articles.csv\", index=False)"
      ],
      "metadata": {
        "id": "PEa_VfaPkBgp"
      },
      "execution_count": null,
      "outputs": []
    }
  ]
}